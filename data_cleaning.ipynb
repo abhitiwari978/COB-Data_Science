{
 "cells": [
  {
   "cell_type": "code",
   "execution_count": 21,
   "id": "a5e34786-343a-48ca-b7eb-df135986a7f4",
   "metadata": {},
   "outputs": [],
   "source": [
    "import pandas as pd\n",
    "import matplotlib.pyplot as plt\n",
    "import seaborn as sns"
   ]
  },
  {
   "cell_type": "code",
   "execution_count": 22,
   "id": "f528805b-2bdc-480c-8f0b-1b71a1fb5df5",
   "metadata": {},
   "outputs": [],
   "source": [
    "df=pd.read_csv('dataset - netflix1.csv')"
   ]
  },
  {
   "cell_type": "code",
   "execution_count": 23,
   "id": "85901860-3313-4fb0-b09a-a81f582eccb0",
   "metadata": {},
   "outputs": [
    {
     "data": {
      "text/html": [
       "<div>\n",
       "<style scoped>\n",
       "    .dataframe tbody tr th:only-of-type {\n",
       "        vertical-align: middle;\n",
       "    }\n",
       "\n",
       "    .dataframe tbody tr th {\n",
       "        vertical-align: top;\n",
       "    }\n",
       "\n",
       "    .dataframe thead th {\n",
       "        text-align: right;\n",
       "    }\n",
       "</style>\n",
       "<table border=\"1\" class=\"dataframe\">\n",
       "  <thead>\n",
       "    <tr style=\"text-align: right;\">\n",
       "      <th></th>\n",
       "      <th>release_year</th>\n",
       "    </tr>\n",
       "  </thead>\n",
       "  <tbody>\n",
       "    <tr>\n",
       "      <th>count</th>\n",
       "      <td>8790.000000</td>\n",
       "    </tr>\n",
       "    <tr>\n",
       "      <th>mean</th>\n",
       "      <td>2014.183163</td>\n",
       "    </tr>\n",
       "    <tr>\n",
       "      <th>std</th>\n",
       "      <td>8.825466</td>\n",
       "    </tr>\n",
       "    <tr>\n",
       "      <th>min</th>\n",
       "      <td>1925.000000</td>\n",
       "    </tr>\n",
       "    <tr>\n",
       "      <th>25%</th>\n",
       "      <td>2013.000000</td>\n",
       "    </tr>\n",
       "    <tr>\n",
       "      <th>50%</th>\n",
       "      <td>2017.000000</td>\n",
       "    </tr>\n",
       "    <tr>\n",
       "      <th>75%</th>\n",
       "      <td>2019.000000</td>\n",
       "    </tr>\n",
       "    <tr>\n",
       "      <th>max</th>\n",
       "      <td>2021.000000</td>\n",
       "    </tr>\n",
       "  </tbody>\n",
       "</table>\n",
       "</div>"
      ],
      "text/plain": [
       "       release_year\n",
       "count   8790.000000\n",
       "mean    2014.183163\n",
       "std        8.825466\n",
       "min     1925.000000\n",
       "25%     2013.000000\n",
       "50%     2017.000000\n",
       "75%     2019.000000\n",
       "max     2021.000000"
      ]
     },
     "execution_count": 23,
     "metadata": {},
     "output_type": "execute_result"
    }
   ],
   "source": [
    "df.describe()"
   ]
  },
  {
   "cell_type": "code",
   "execution_count": 24,
   "id": "e608ed2a-7f00-4c7a-b7ea-c74e207d95ec",
   "metadata": {},
   "outputs": [
    {
     "data": {
      "text/html": [
       "<div>\n",
       "<style scoped>\n",
       "    .dataframe tbody tr th:only-of-type {\n",
       "        vertical-align: middle;\n",
       "    }\n",
       "\n",
       "    .dataframe tbody tr th {\n",
       "        vertical-align: top;\n",
       "    }\n",
       "\n",
       "    .dataframe thead th {\n",
       "        text-align: right;\n",
       "    }\n",
       "</style>\n",
       "<table border=\"1\" class=\"dataframe\">\n",
       "  <thead>\n",
       "    <tr style=\"text-align: right;\">\n",
       "      <th></th>\n",
       "      <th>show_id</th>\n",
       "      <th>type</th>\n",
       "      <th>title</th>\n",
       "      <th>director</th>\n",
       "      <th>country</th>\n",
       "      <th>date_added</th>\n",
       "      <th>release_year</th>\n",
       "      <th>rating</th>\n",
       "      <th>duration</th>\n",
       "      <th>listed_in</th>\n",
       "    </tr>\n",
       "  </thead>\n",
       "  <tbody>\n",
       "    <tr>\n",
       "      <th>0</th>\n",
       "      <td>s1</td>\n",
       "      <td>Movie</td>\n",
       "      <td>Dick Johnson Is Dead</td>\n",
       "      <td>Kirsten Johnson</td>\n",
       "      <td>United States</td>\n",
       "      <td>9/25/2021</td>\n",
       "      <td>2020</td>\n",
       "      <td>PG-13</td>\n",
       "      <td>90 min</td>\n",
       "      <td>Documentaries</td>\n",
       "    </tr>\n",
       "    <tr>\n",
       "      <th>1</th>\n",
       "      <td>s3</td>\n",
       "      <td>TV Show</td>\n",
       "      <td>Ganglands</td>\n",
       "      <td>Julien Leclercq</td>\n",
       "      <td>France</td>\n",
       "      <td>9/24/2021</td>\n",
       "      <td>2021</td>\n",
       "      <td>TV-MA</td>\n",
       "      <td>1 Season</td>\n",
       "      <td>Crime TV Shows, International TV Shows, TV Act...</td>\n",
       "    </tr>\n",
       "    <tr>\n",
       "      <th>2</th>\n",
       "      <td>s6</td>\n",
       "      <td>TV Show</td>\n",
       "      <td>Midnight Mass</td>\n",
       "      <td>Mike Flanagan</td>\n",
       "      <td>United States</td>\n",
       "      <td>9/24/2021</td>\n",
       "      <td>2021</td>\n",
       "      <td>TV-MA</td>\n",
       "      <td>1 Season</td>\n",
       "      <td>TV Dramas, TV Horror, TV Mysteries</td>\n",
       "    </tr>\n",
       "    <tr>\n",
       "      <th>3</th>\n",
       "      <td>s14</td>\n",
       "      <td>Movie</td>\n",
       "      <td>Confessions of an Invisible Girl</td>\n",
       "      <td>Bruno Garotti</td>\n",
       "      <td>Brazil</td>\n",
       "      <td>9/22/2021</td>\n",
       "      <td>2021</td>\n",
       "      <td>TV-PG</td>\n",
       "      <td>91 min</td>\n",
       "      <td>Children &amp; Family Movies, Comedies</td>\n",
       "    </tr>\n",
       "    <tr>\n",
       "      <th>4</th>\n",
       "      <td>s8</td>\n",
       "      <td>Movie</td>\n",
       "      <td>Sankofa</td>\n",
       "      <td>Haile Gerima</td>\n",
       "      <td>United States</td>\n",
       "      <td>9/24/2021</td>\n",
       "      <td>1993</td>\n",
       "      <td>TV-MA</td>\n",
       "      <td>125 min</td>\n",
       "      <td>Dramas, Independent Movies, International Movies</td>\n",
       "    </tr>\n",
       "  </tbody>\n",
       "</table>\n",
       "</div>"
      ],
      "text/plain": [
       "  show_id     type                             title         director  \\\n",
       "0      s1    Movie              Dick Johnson Is Dead  Kirsten Johnson   \n",
       "1      s3  TV Show                         Ganglands  Julien Leclercq   \n",
       "2      s6  TV Show                     Midnight Mass    Mike Flanagan   \n",
       "3     s14    Movie  Confessions of an Invisible Girl    Bruno Garotti   \n",
       "4      s8    Movie                           Sankofa     Haile Gerima   \n",
       "\n",
       "         country date_added  release_year rating  duration  \\\n",
       "0  United States  9/25/2021          2020  PG-13    90 min   \n",
       "1         France  9/24/2021          2021  TV-MA  1 Season   \n",
       "2  United States  9/24/2021          2021  TV-MA  1 Season   \n",
       "3         Brazil  9/22/2021          2021  TV-PG    91 min   \n",
       "4  United States  9/24/2021          1993  TV-MA   125 min   \n",
       "\n",
       "                                           listed_in  \n",
       "0                                      Documentaries  \n",
       "1  Crime TV Shows, International TV Shows, TV Act...  \n",
       "2                 TV Dramas, TV Horror, TV Mysteries  \n",
       "3                 Children & Family Movies, Comedies  \n",
       "4   Dramas, Independent Movies, International Movies  "
      ]
     },
     "execution_count": 24,
     "metadata": {},
     "output_type": "execute_result"
    }
   ],
   "source": [
    "df.head()"
   ]
  },
  {
   "cell_type": "markdown",
   "id": "41c0b104-53db-4241-a546-99bd61a01f8a",
   "metadata": {},
   "source": [
    "# data cleaning"
   ]
  },
  {
   "cell_type": "code",
   "execution_count": 25,
   "id": "9538b029-8ea1-40ff-918c-ed66286a6d92",
   "metadata": {},
   "outputs": [
    {
     "name": "stdout",
     "output_type": "stream",
     "text": [
      "<class 'pandas.core.frame.DataFrame'>\n",
      "RangeIndex: 8790 entries, 0 to 8789\n",
      "Data columns (total 10 columns):\n",
      " #   Column        Non-Null Count  Dtype \n",
      "---  ------        --------------  ----- \n",
      " 0   show_id       8790 non-null   object\n",
      " 1   type          8790 non-null   object\n",
      " 2   title         8790 non-null   object\n",
      " 3   director      8790 non-null   object\n",
      " 4   country       8790 non-null   object\n",
      " 5   date_added    8790 non-null   object\n",
      " 6   release_year  8790 non-null   int64 \n",
      " 7   rating        8790 non-null   object\n",
      " 8   duration      8790 non-null   object\n",
      " 9   listed_in     8790 non-null   object\n",
      "dtypes: int64(1), object(9)\n",
      "memory usage: 686.8+ KB\n"
     ]
    }
   ],
   "source": [
    "df.info()"
   ]
  },
  {
   "cell_type": "code",
   "execution_count": 26,
   "id": "1adebfe3-aad2-4602-8309-c17d3fec6211",
   "metadata": {},
   "outputs": [
    {
     "data": {
      "text/plain": [
       "show_id         0\n",
       "type            0\n",
       "title           0\n",
       "director        0\n",
       "country         0\n",
       "date_added      0\n",
       "release_year    0\n",
       "rating          0\n",
       "duration        0\n",
       "listed_in       0\n",
       "dtype: int64"
      ]
     },
     "execution_count": 26,
     "metadata": {},
     "output_type": "execute_result"
    }
   ],
   "source": [
    "df.isnull().sum()"
   ]
  },
  {
   "cell_type": "code",
   "execution_count": 27,
   "id": "27f3ecb4-2bbd-4d45-b3b2-af0ddb5abed8",
   "metadata": {},
   "outputs": [
    {
     "data": {
      "text/plain": [
       "type\n",
       "Movie      6126\n",
       "TV Show    2664\n",
       "dtype: int64"
      ]
     },
     "execution_count": 27,
     "metadata": {},
     "output_type": "execute_result"
    }
   ],
   "source": [
    "df.groupby('type').size()"
   ]
  },
  {
   "cell_type": "code",
   "execution_count": 28,
   "id": "de87a7e8-424a-4ec5-a8bb-09fb42fc03de",
   "metadata": {},
   "outputs": [
    {
     "data": {
      "text/plain": [
       "show_id         0.0\n",
       "type            0.0\n",
       "title           0.0\n",
       "director        0.0\n",
       "country         0.0\n",
       "date_added      0.0\n",
       "release_year    0.0\n",
       "rating          0.0\n",
       "duration        0.0\n",
       "listed_in       0.0\n",
       "dtype: float64"
      ]
     },
     "execution_count": 28,
     "metadata": {},
     "output_type": "execute_result"
    }
   ],
   "source": [
    "df.isnull().mean()*100"
   ]
  },
  {
   "cell_type": "code",
   "execution_count": 29,
   "id": "9e37c993-7586-4a4a-a3bf-2ce40c880fda",
   "metadata": {},
   "outputs": [],
   "source": [
    "from sklearn.preprocessing import LabelEncoder\n",
    "encoder=LabelEncoder()"
   ]
  },
  {
   "cell_type": "code",
   "execution_count": 30,
   "id": "6d42f742-f04a-467e-85fa-36bb50665fe3",
   "metadata": {},
   "outputs": [],
   "source": [
    "df['rating']=encoder.fit_transform(df['rating'])"
   ]
  },
  {
   "cell_type": "code",
   "execution_count": 31,
   "id": "25aa231e-85a5-4b71-bfc3-998488f426da",
   "metadata": {},
   "outputs": [
    {
     "data": {
      "text/plain": [
       "<Axes: >"
      ]
     },
     "execution_count": 31,
     "metadata": {},
     "output_type": "execute_result"
    },
    {
     "data": {
      "image/png": "[encoded data removed]",
      "text/plain": [
       "<Figure size 640x480 with 1 Axes>"
      ]
     },
     "metadata": {},
     "output_type": "display_data"
    }
   ],
   "source": [
    "sns.boxplot(df['rating'])"
   ]
  },
  {
   "cell_type": "code",
   "execution_count": 32,
   "id": "2ca7cbc4-c33c-4bdd-9e1d-46c74398aa2e",
   "metadata": {},
   "outputs": [
    {
     "data": {
      "text/html": [
       "<div>\n",
       "<style scoped>\n",
       "    .dataframe tbody tr th:only-of-type {\n",
       "        vertical-align: middle;\n",
       "    }\n",
       "\n",
       "    .dataframe tbody tr th {\n",
       "        vertical-align: top;\n",
       "    }\n",
       "\n",
       "    .dataframe thead th {\n",
       "        text-align: right;\n",
       "    }\n",
       "</style>\n",
       "<table border=\"1\" class=\"dataframe\">\n",
       "  <thead>\n",
       "    <tr style=\"text-align: right;\">\n",
       "      <th></th>\n",
       "      <th>show_id</th>\n",
       "      <th>type</th>\n",
       "      <th>title</th>\n",
       "      <th>director</th>\n",
       "      <th>country</th>\n",
       "      <th>date_added</th>\n",
       "      <th>release_year</th>\n",
       "      <th>rating</th>\n",
       "      <th>duration</th>\n",
       "      <th>listed_in</th>\n",
       "    </tr>\n",
       "  </thead>\n",
       "  <tbody>\n",
       "    <tr>\n",
       "      <th>0</th>\n",
       "      <td>s1</td>\n",
       "      <td>Movie</td>\n",
       "      <td>Dick Johnson Is Dead</td>\n",
       "      <td>Kirsten Johnson</td>\n",
       "      <td>United States</td>\n",
       "      <td>9/25/2021</td>\n",
       "      <td>2020</td>\n",
       "      <td>4</td>\n",
       "      <td>90 min</td>\n",
       "      <td>Documentaries</td>\n",
       "    </tr>\n",
       "    <tr>\n",
       "      <th>1</th>\n",
       "      <td>s3</td>\n",
       "      <td>TV Show</td>\n",
       "      <td>Ganglands</td>\n",
       "      <td>Julien Leclercq</td>\n",
       "      <td>France</td>\n",
       "      <td>9/24/2021</td>\n",
       "      <td>2021</td>\n",
       "      <td>8</td>\n",
       "      <td>1 Season</td>\n",
       "      <td>Crime TV Shows, International TV Shows, TV Act...</td>\n",
       "    </tr>\n",
       "    <tr>\n",
       "      <th>2</th>\n",
       "      <td>s6</td>\n",
       "      <td>TV Show</td>\n",
       "      <td>Midnight Mass</td>\n",
       "      <td>Mike Flanagan</td>\n",
       "      <td>United States</td>\n",
       "      <td>9/24/2021</td>\n",
       "      <td>2021</td>\n",
       "      <td>8</td>\n",
       "      <td>1 Season</td>\n",
       "      <td>TV Dramas, TV Horror, TV Mysteries</td>\n",
       "    </tr>\n",
       "    <tr>\n",
       "      <th>3</th>\n",
       "      <td>s14</td>\n",
       "      <td>Movie</td>\n",
       "      <td>Confessions of an Invisible Girl</td>\n",
       "      <td>Bruno Garotti</td>\n",
       "      <td>Brazil</td>\n",
       "      <td>9/22/2021</td>\n",
       "      <td>2021</td>\n",
       "      <td>9</td>\n",
       "      <td>91 min</td>\n",
       "      <td>Children &amp; Family Movies, Comedies</td>\n",
       "    </tr>\n",
       "    <tr>\n",
       "      <th>4</th>\n",
       "      <td>s8</td>\n",
       "      <td>Movie</td>\n",
       "      <td>Sankofa</td>\n",
       "      <td>Haile Gerima</td>\n",
       "      <td>United States</td>\n",
       "      <td>9/24/2021</td>\n",
       "      <td>1993</td>\n",
       "      <td>8</td>\n",
       "      <td>125 min</td>\n",
       "      <td>Dramas, Independent Movies, International Movies</td>\n",
       "    </tr>\n",
       "  </tbody>\n",
       "</table>\n",
       "</div>"
      ],
      "text/plain": [
       "  show_id     type                             title         director  \\\n",
       "0      s1    Movie              Dick Johnson Is Dead  Kirsten Johnson   \n",
       "1      s3  TV Show                         Ganglands  Julien Leclercq   \n",
       "2      s6  TV Show                     Midnight Mass    Mike Flanagan   \n",
       "3     s14    Movie  Confessions of an Invisible Girl    Bruno Garotti   \n",
       "4      s8    Movie                           Sankofa     Haile Gerima   \n",
       "\n",
       "         country date_added  release_year  rating  duration  \\\n",
       "0  United States  9/25/2021          2020       4    90 min   \n",
       "1         France  9/24/2021          2021       8  1 Season   \n",
       "2  United States  9/24/2021          2021       8  1 Season   \n",
       "3         Brazil  9/22/2021          2021       9    91 min   \n",
       "4  United States  9/24/2021          1993       8   125 min   \n",
       "\n",
       "                                           listed_in  \n",
       "0                                      Documentaries  \n",
       "1  Crime TV Shows, International TV Shows, TV Act...  \n",
       "2                 TV Dramas, TV Horror, TV Mysteries  \n",
       "3                 Children & Family Movies, Comedies  \n",
       "4   Dramas, Independent Movies, International Movies  "
      ]
     },
     "execution_count": 32,
     "metadata": {},
     "output_type": "execute_result"
    }
   ],
   "source": [
    "df.head()"
   ]
  },
  {
   "cell_type": "code",
   "execution_count": 33,
   "id": "128f03f4-5dbb-4a33-8138-03c3b896718d",
   "metadata": {},
   "outputs": [],
   "source": [
    "percentile25 = df['rating'].quantile(0.25)\n",
    "percentile75 = df['rating'].quantile(0.75)"
   ]
  },
  {
   "cell_type": "code",
   "execution_count": 34,
   "id": "c2773320-aa6f-4a96-9b4e-af4464914b95",
   "metadata": {},
   "outputs": [
    {
     "data": {
      "text/plain": [
       "8.0"
      ]
     },
     "execution_count": 34,
     "metadata": {},
     "output_type": "execute_result"
    }
   ],
   "source": [
    "percentile75"
   ]
  },
  {
   "cell_type": "code",
   "execution_count": 35,
   "id": "a5257f30-c4a0-499b-bfa9-9f67380de5f1",
   "metadata": {},
   "outputs": [
    {
     "data": {
      "text/plain": [
       "2.0"
      ]
     },
     "execution_count": 35,
     "metadata": {},
     "output_type": "execute_result"
    }
   ],
   "source": [
    "iqr = percentile75 - percentile25\n",
    "iqr"
   ]
  },
  {
   "cell_type": "code",
   "execution_count": 36,
   "id": "6ca3be8e-d798-45b8-adef-a3eb6c9f2815",
   "metadata": {},
   "outputs": [
    {
     "name": "stdout",
     "output_type": "stream",
     "text": [
      "Upper limit 11.0\n",
      "Lower limit 3.0\n"
     ]
    }
   ],
   "source": [
    "upper_limit = percentile75 + 1.5 * iqr\n",
    "lower_limit = percentile25 - 1.5 * iqr\n",
    "print(\"Upper limit\",upper_limit)\n",
    "print(\"Lower limit\",lower_limit)"
   ]
  },
  {
   "cell_type": "markdown",
   "id": "cebd1972-003e-47f5-b65c-0258ecd79647",
   "metadata": {},
   "source": [
    "## finding outliers"
   ]
  },
  {
   "cell_type": "code",
   "execution_count": 38,
   "id": "c1f4a0ae-19d3-4554-806b-7240b66f7437",
   "metadata": {},
   "outputs": [
    {
     "data": {
      "text/html": [
       "<div>\n",
       "<style scoped>\n",
       "    .dataframe tbody tr th:only-of-type {\n",
       "        vertical-align: middle;\n",
       "    }\n",
       "\n",
       "    .dataframe tbody tr th {\n",
       "        vertical-align: top;\n",
       "    }\n",
       "\n",
       "    .dataframe thead th {\n",
       "        text-align: right;\n",
       "    }\n",
       "</style>\n",
       "<table border=\"1\" class=\"dataframe\">\n",
       "  <thead>\n",
       "    <tr style=\"text-align: right;\">\n",
       "      <th></th>\n",
       "      <th>show_id</th>\n",
       "      <th>type</th>\n",
       "      <th>title</th>\n",
       "      <th>director</th>\n",
       "      <th>country</th>\n",
       "      <th>date_added</th>\n",
       "      <th>release_year</th>\n",
       "      <th>rating</th>\n",
       "      <th>duration</th>\n",
       "      <th>listed_in</th>\n",
       "    </tr>\n",
       "  </thead>\n",
       "  <tbody>\n",
       "    <tr>\n",
       "      <th>4760</th>\n",
       "      <td>s6582</td>\n",
       "      <td>Movie</td>\n",
       "      <td>Dear Dracula</td>\n",
       "      <td>Chad Van De Keere</td>\n",
       "      <td>United States</td>\n",
       "      <td>2/18/2016</td>\n",
       "      <td>2012</td>\n",
       "      <td>12</td>\n",
       "      <td>43 min</td>\n",
       "      <td>Children &amp; Family Movies, Comedies</td>\n",
       "    </tr>\n",
       "    <tr>\n",
       "      <th>5134</th>\n",
       "      <td>s7059</td>\n",
       "      <td>Movie</td>\n",
       "      <td>Immoral Tales</td>\n",
       "      <td>Walerian Borowczyk</td>\n",
       "      <td>France</td>\n",
       "      <td>6/6/2019</td>\n",
       "      <td>1974</td>\n",
       "      <td>13</td>\n",
       "      <td>103 min</td>\n",
       "      <td>Dramas, International Movies, Romantic Movies</td>\n",
       "    </tr>\n",
       "    <tr>\n",
       "      <th>5318</th>\n",
       "      <td>s7293</td>\n",
       "      <td>Movie</td>\n",
       "      <td>Leo the Lion</td>\n",
       "      <td>Mario Cambi</td>\n",
       "      <td>United States</td>\n",
       "      <td>12/20/2015</td>\n",
       "      <td>2013</td>\n",
       "      <td>12</td>\n",
       "      <td>78 min</td>\n",
       "      <td>Children &amp; Family Movies, Comedies</td>\n",
       "    </tr>\n",
       "    <tr>\n",
       "      <th>5348</th>\n",
       "      <td>s7318</td>\n",
       "      <td>Movie</td>\n",
       "      <td>Little Singham aur Kaal ka Mahajaal</td>\n",
       "      <td>Prakash Satam</td>\n",
       "      <td>Not Given</td>\n",
       "      <td>12/1/2018</td>\n",
       "      <td>2018</td>\n",
       "      <td>12</td>\n",
       "      <td>68 min</td>\n",
       "      <td>Children &amp; Family Movies, Comedies</td>\n",
       "    </tr>\n",
       "    <tr>\n",
       "      <th>5497</th>\n",
       "      <td>s7514</td>\n",
       "      <td>Movie</td>\n",
       "      <td>Motu Patlu: King of Kings</td>\n",
       "      <td>Suhas Kadav</td>\n",
       "      <td>India</td>\n",
       "      <td>7/6/2017</td>\n",
       "      <td>2016</td>\n",
       "      <td>12</td>\n",
       "      <td>109 min</td>\n",
       "      <td>Children &amp; Family Movies, Comedies</td>\n",
       "    </tr>\n",
       "    <tr>\n",
       "      <th>5862</th>\n",
       "      <td>s7989</td>\n",
       "      <td>Movie</td>\n",
       "      <td>Sex Doll</td>\n",
       "      <td>Sylvie Verheyde</td>\n",
       "      <td>United Kingdom</td>\n",
       "      <td>7/10/2017</td>\n",
       "      <td>2016</td>\n",
       "      <td>13</td>\n",
       "      <td>103 min</td>\n",
       "      <td>Dramas, International Movies, Romantic Movies</td>\n",
       "    </tr>\n",
       "    <tr>\n",
       "      <th>6532</th>\n",
       "      <td>s8791</td>\n",
       "      <td>Movie</td>\n",
       "      <td>You Don't Mess with the Zohan</td>\n",
       "      <td>Dennis Dugan</td>\n",
       "      <td>United States</td>\n",
       "      <td>9/1/2019</td>\n",
       "      <td>2008</td>\n",
       "      <td>13</td>\n",
       "      <td>113 min</td>\n",
       "      <td>Action &amp; Adventure, Comedies</td>\n",
       "    </tr>\n",
       "    <tr>\n",
       "      <th>8539</th>\n",
       "      <td>s7291</td>\n",
       "      <td>Movie</td>\n",
       "      <td>LEGO Ninjago: Masters of Spinjitzu: Day of the...</td>\n",
       "      <td>Not Given</td>\n",
       "      <td>Denmark</td>\n",
       "      <td>2/1/2019</td>\n",
       "      <td>2016</td>\n",
       "      <td>12</td>\n",
       "      <td>44 min</td>\n",
       "      <td>Action &amp; Adventure, Children &amp; Family Movies</td>\n",
       "    </tr>\n",
       "    <tr>\n",
       "      <th>8593</th>\n",
       "      <td>s7647</td>\n",
       "      <td>TV Show</td>\n",
       "      <td>Oh No! It's an Alien Invasion</td>\n",
       "      <td>Not Given</td>\n",
       "      <td>Canada</td>\n",
       "      <td>5/31/2015</td>\n",
       "      <td>2014</td>\n",
       "      <td>12</td>\n",
       "      <td>2 Seasons</td>\n",
       "      <td>Kids' TV, TV Action &amp; Adventure, TV Sci-Fi &amp; F...</td>\n",
       "    </tr>\n",
       "  </tbody>\n",
       "</table>\n",
       "</div>"
      ],
      "text/plain": [
       "     show_id     type                                              title  \\\n",
       "4760   s6582    Movie                                       Dear Dracula   \n",
       "5134   s7059    Movie                                      Immoral Tales   \n",
       "5318   s7293    Movie                                       Leo the Lion   \n",
       "5348   s7318    Movie                Little Singham aur Kaal ka Mahajaal   \n",
       "5497   s7514    Movie                          Motu Patlu: King of Kings   \n",
       "5862   s7989    Movie                                           Sex Doll   \n",
       "6532   s8791    Movie                      You Don't Mess with the Zohan   \n",
       "8539   s7291    Movie  LEGO Ninjago: Masters of Spinjitzu: Day of the...   \n",
       "8593   s7647  TV Show                      Oh No! It's an Alien Invasion   \n",
       "\n",
       "                director         country  date_added  release_year  rating  \\\n",
       "4760   Chad Van De Keere   United States   2/18/2016          2012      12   \n",
       "5134  Walerian Borowczyk          France    6/6/2019          1974      13   \n",
       "5318         Mario Cambi   United States  12/20/2015          2013      12   \n",
       "5348       Prakash Satam       Not Given   12/1/2018          2018      12   \n",
       "5497         Suhas Kadav           India    7/6/2017          2016      12   \n",
       "5862     Sylvie Verheyde  United Kingdom   7/10/2017          2016      13   \n",
       "6532        Dennis Dugan   United States    9/1/2019          2008      13   \n",
       "8539           Not Given         Denmark    2/1/2019          2016      12   \n",
       "8593           Not Given          Canada   5/31/2015          2014      12   \n",
       "\n",
       "       duration                                          listed_in  \n",
       "4760     43 min                 Children & Family Movies, Comedies  \n",
       "5134    103 min      Dramas, International Movies, Romantic Movies  \n",
       "5318     78 min                 Children & Family Movies, Comedies  \n",
       "5348     68 min                 Children & Family Movies, Comedies  \n",
       "5497    109 min                 Children & Family Movies, Comedies  \n",
       "5862    103 min      Dramas, International Movies, Romantic Movies  \n",
       "6532    113 min                       Action & Adventure, Comedies  \n",
       "8539     44 min       Action & Adventure, Children & Family Movies  \n",
       "8593  2 Seasons  Kids' TV, TV Action & Adventure, TV Sci-Fi & F...  "
      ]
     },
     "execution_count": 38,
     "metadata": {},
     "output_type": "execute_result"
    }
   ],
   "source": [
    "df[df['rating'] > upper_limit]"
   ]
  },
  {
   "cell_type": "code",
   "execution_count": 40,
   "id": "c5aff86e-ce2d-42c4-aaa3-1ca7ed47109c",
   "metadata": {},
   "outputs": [
    {
     "data": {
      "text/html": [
       "<div>\n",
       "<style scoped>\n",
       "    .dataframe tbody tr th:only-of-type {\n",
       "        vertical-align: middle;\n",
       "    }\n",
       "\n",
       "    .dataframe tbody tr th {\n",
       "        vertical-align: top;\n",
       "    }\n",
       "\n",
       "    .dataframe thead th {\n",
       "        text-align: right;\n",
       "    }\n",
       "</style>\n",
       "<table border=\"1\" class=\"dataframe\">\n",
       "  <thead>\n",
       "    <tr style=\"text-align: right;\">\n",
       "      <th></th>\n",
       "      <th>show_id</th>\n",
       "      <th>type</th>\n",
       "      <th>title</th>\n",
       "      <th>director</th>\n",
       "      <th>country</th>\n",
       "      <th>date_added</th>\n",
       "      <th>release_year</th>\n",
       "      <th>rating</th>\n",
       "      <th>duration</th>\n",
       "      <th>listed_in</th>\n",
       "    </tr>\n",
       "  </thead>\n",
       "  <tbody>\n",
       "    <tr>\n",
       "      <th>144</th>\n",
       "      <td>s108</td>\n",
       "      <td>Movie</td>\n",
       "      <td>A Champion Heart</td>\n",
       "      <td>David de Vos</td>\n",
       "      <td>United States</td>\n",
       "      <td>9/4/2021</td>\n",
       "      <td>2018</td>\n",
       "      <td>0</td>\n",
       "      <td>90 min</td>\n",
       "      <td>Children &amp; Family Movies, Dramas</td>\n",
       "    </tr>\n",
       "    <tr>\n",
       "      <th>970</th>\n",
       "      <td>s934</td>\n",
       "      <td>Movie</td>\n",
       "      <td>Hachi: A Dog's Tale</td>\n",
       "      <td>Lasse Hallström</td>\n",
       "      <td>United Kingdom</td>\n",
       "      <td>5/1/2021</td>\n",
       "      <td>2009</td>\n",
       "      <td>0</td>\n",
       "      <td>93 min</td>\n",
       "      <td>Children &amp; Family Movies, Dramas</td>\n",
       "    </tr>\n",
       "    <tr>\n",
       "      <th>1106</th>\n",
       "      <td>s1127</td>\n",
       "      <td>Movie</td>\n",
       "      <td>My Fair Lady</td>\n",
       "      <td>George Cukor</td>\n",
       "      <td>United States</td>\n",
       "      <td>4/1/2021</td>\n",
       "      <td>1964</td>\n",
       "      <td>0</td>\n",
       "      <td>173 min</td>\n",
       "      <td>Classic Movies, Music &amp; Musicals</td>\n",
       "    </tr>\n",
       "    <tr>\n",
       "      <th>1393</th>\n",
       "      <td>s1558</td>\n",
       "      <td>Movie</td>\n",
       "      <td>Canvas</td>\n",
       "      <td>Frank E. Abney III</td>\n",
       "      <td>United States</td>\n",
       "      <td>12/11/2020</td>\n",
       "      <td>2020</td>\n",
       "      <td>0</td>\n",
       "      <td>9 min</td>\n",
       "      <td>Children &amp; Family Movies, Dramas</td>\n",
       "    </tr>\n",
       "    <tr>\n",
       "      <th>2313</th>\n",
       "      <td>s2912</td>\n",
       "      <td>Movie</td>\n",
       "      <td>A Shaun the Sheep Movie: Farmageddon</td>\n",
       "      <td>Richard Phelan, Will Becher</td>\n",
       "      <td>United Kingdom</td>\n",
       "      <td>2/14/2020</td>\n",
       "      <td>2019</td>\n",
       "      <td>0</td>\n",
       "      <td>87 min</td>\n",
       "      <td>Children &amp; Family Movies, Comedies</td>\n",
       "    </tr>\n",
       "    <tr>\n",
       "      <th>...</th>\n",
       "      <td>...</td>\n",
       "      <td>...</td>\n",
       "      <td>...</td>\n",
       "      <td>...</td>\n",
       "      <td>...</td>\n",
       "      <td>...</td>\n",
       "      <td>...</td>\n",
       "      <td>...</td>\n",
       "      <td>...</td>\n",
       "      <td>...</td>\n",
       "    </tr>\n",
       "    <tr>\n",
       "      <th>8433</th>\n",
       "      <td>s6672</td>\n",
       "      <td>TV Show</td>\n",
       "      <td>El Barco</td>\n",
       "      <td>Not Given</td>\n",
       "      <td>Spain</td>\n",
       "      <td>7/1/2017</td>\n",
       "      <td>2013</td>\n",
       "      <td>2</td>\n",
       "      <td>3 Seasons</td>\n",
       "      <td>International TV Shows, Romantic TV Shows, Spa...</td>\n",
       "    </tr>\n",
       "    <tr>\n",
       "      <th>8533</th>\n",
       "      <td>s7264</td>\n",
       "      <td>Movie</td>\n",
       "      <td>Lady-Like</td>\n",
       "      <td>Not Given</td>\n",
       "      <td>United States</td>\n",
       "      <td>1/18/2019</td>\n",
       "      <td>2018</td>\n",
       "      <td>1</td>\n",
       "      <td>83 min</td>\n",
       "      <td>Comedies, Independent Movies</td>\n",
       "    </tr>\n",
       "    <tr>\n",
       "      <th>8584</th>\n",
       "      <td>s7598</td>\n",
       "      <td>TV Show</td>\n",
       "      <td>North &amp; South</td>\n",
       "      <td>Not Given</td>\n",
       "      <td>United Kingdom</td>\n",
       "      <td>3/31/2017</td>\n",
       "      <td>2004</td>\n",
       "      <td>2</td>\n",
       "      <td>1 Season</td>\n",
       "      <td>British TV Shows, Romantic TV Shows, TV Dramas</td>\n",
       "    </tr>\n",
       "    <tr>\n",
       "      <th>8653</th>\n",
       "      <td>s7909</td>\n",
       "      <td>TV Show</td>\n",
       "      <td>Russell Peters vs. the World</td>\n",
       "      <td>Not Given</td>\n",
       "      <td>United States</td>\n",
       "      <td>10/14/2013</td>\n",
       "      <td>2013</td>\n",
       "      <td>2</td>\n",
       "      <td>1 Season</td>\n",
       "      <td>Docuseries, Stand-Up Comedy &amp; Talk Shows</td>\n",
       "    </tr>\n",
       "    <tr>\n",
       "      <th>8719</th>\n",
       "      <td>s8335</td>\n",
       "      <td>TV Show</td>\n",
       "      <td>The Great Train Robbery</td>\n",
       "      <td>Not Given</td>\n",
       "      <td>United Kingdom</td>\n",
       "      <td>3/31/2017</td>\n",
       "      <td>2013</td>\n",
       "      <td>2</td>\n",
       "      <td>1 Season</td>\n",
       "      <td>British TV Shows, Crime TV Shows, Internationa...</td>\n",
       "    </tr>\n",
       "  </tbody>\n",
       "</table>\n",
       "<p>123 rows × 10 columns</p>\n",
       "</div>"
      ],
      "text/plain": [
       "     show_id     type                                 title  \\\n",
       "144     s108    Movie                      A Champion Heart   \n",
       "970     s934    Movie                   Hachi: A Dog's Tale   \n",
       "1106   s1127    Movie                          My Fair Lady   \n",
       "1393   s1558    Movie                                Canvas   \n",
       "2313   s2912    Movie  A Shaun the Sheep Movie: Farmageddon   \n",
       "...      ...      ...                                   ...   \n",
       "8433   s6672  TV Show                              El Barco   \n",
       "8533   s7264    Movie                             Lady-Like   \n",
       "8584   s7598  TV Show                         North & South   \n",
       "8653   s7909  TV Show          Russell Peters vs. the World   \n",
       "8719   s8335  TV Show               The Great Train Robbery   \n",
       "\n",
       "                         director         country  date_added  release_year  \\\n",
       "144                  David de Vos   United States    9/4/2021          2018   \n",
       "970               Lasse Hallström  United Kingdom    5/1/2021          2009   \n",
       "1106                 George Cukor   United States    4/1/2021          1964   \n",
       "1393           Frank E. Abney III   United States  12/11/2020          2020   \n",
       "2313  Richard Phelan, Will Becher  United Kingdom   2/14/2020          2019   \n",
       "...                           ...             ...         ...           ...   \n",
       "8433                    Not Given           Spain    7/1/2017          2013   \n",
       "8533                    Not Given   United States   1/18/2019          2018   \n",
       "8584                    Not Given  United Kingdom   3/31/2017          2004   \n",
       "8653                    Not Given   United States  10/14/2013          2013   \n",
       "8719                    Not Given  United Kingdom   3/31/2017          2013   \n",
       "\n",
       "      rating   duration                                          listed_in  \n",
       "144        0     90 min                   Children & Family Movies, Dramas  \n",
       "970        0     93 min                   Children & Family Movies, Dramas  \n",
       "1106       0    173 min                   Classic Movies, Music & Musicals  \n",
       "1393       0      9 min                   Children & Family Movies, Dramas  \n",
       "2313       0     87 min                 Children & Family Movies, Comedies  \n",
       "...      ...        ...                                                ...  \n",
       "8433       2  3 Seasons  International TV Shows, Romantic TV Shows, Spa...  \n",
       "8533       1     83 min                       Comedies, Independent Movies  \n",
       "8584       2   1 Season     British TV Shows, Romantic TV Shows, TV Dramas  \n",
       "8653       2   1 Season           Docuseries, Stand-Up Comedy & Talk Shows  \n",
       "8719       2   1 Season  British TV Shows, Crime TV Shows, Internationa...  \n",
       "\n",
       "[123 rows x 10 columns]"
      ]
     },
     "execution_count": 40,
     "metadata": {},
     "output_type": "execute_result"
    }
   ],
   "source": [
    "df[df['rating'] < lower_limit]"
   ]
  },
  {
   "cell_type": "markdown",
   "id": "32d3aa13-f2a0-4b5c-adba-eb4ff32c0ed0",
   "metadata": {},
   "source": [
    "## trimming"
   ]
  },
  {
   "cell_type": "code",
   "execution_count": 58,
   "id": "2c1ba7a0-8085-40c1-ac73-74d0eb1554fd",
   "metadata": {},
   "outputs": [
    {
     "data": {
      "text/plain": [
       "(8448, 10)"
      ]
     },
     "execution_count": 58,
     "metadata": {},
     "output_type": "execute_result"
    }
   ],
   "source": [
    "new_df = df[df['rating'] < upper_limit]\n",
    "new_df.shape"
   ]
  },
  {
   "cell_type": "code",
   "execution_count": 59,
   "id": "1535823b-b48e-4586-bf54-4976840b733a",
   "metadata": {},
   "outputs": [
    {
     "data": {
      "text/plain": [
       "(8038, 10)"
      ]
     },
     "execution_count": 59,
     "metadata": {},
     "output_type": "execute_result"
    }
   ],
   "source": [
    "new_df = new_df[new_df['rating'] > lower_limit]\n",
    "new_df.shape"
   ]
  },
  {
   "cell_type": "code",
   "execution_count": 66,
   "id": "3e519595-7d16-473e-892f-f763e87f0aee",
   "metadata": {},
   "outputs": [],
   "source": [
    "import seaborn as sns\n",
    "import numpy as np"
   ]
  },
  {
   "cell_type": "code",
   "execution_count": 61,
   "id": "848dc40e-95ac-4cef-84f3-a56b8090145e",
   "metadata": {},
   "outputs": [
    {
     "name": "stderr",
     "output_type": "stream",
     "text": [
      "C:\\Users\\gopal\\AppData\\Local\\Temp\\ipykernel_13052\\3435107626.py:3: UserWarning: \n",
      "\n",
      "`distplot` is a deprecated function and will be removed in seaborn v0.14.0.\n",
      "\n",
      "Please adapt your code to use either `displot` (a figure-level function with\n",
      "similar flexibility) or `histplot` (an axes-level function for histograms).\n",
      "\n",
      "For a guide to updating your code to use the new functions, please see\n",
      "https://gist.github.com/mwaskom/de44147ed2974457ad6372750bbe5751\n",
      "\n",
      "  sns.distplot(df['rating'])\n",
      "C:\\Users\\gopal\\AppData\\Local\\Temp\\ipykernel_13052\\3435107626.py:9: UserWarning: \n",
      "\n",
      "`distplot` is a deprecated function and will be removed in seaborn v0.14.0.\n",
      "\n",
      "Please adapt your code to use either `displot` (a figure-level function with\n",
      "similar flexibility) or `histplot` (an axes-level function for histograms).\n",
      "\n",
      "For a guide to updating your code to use the new functions, please see\n",
      "https://gist.github.com/mwaskom/de44147ed2974457ad6372750bbe5751\n",
      "\n",
      "  sns.distplot(new_df['rating'])\n"
     ]
    },
    {
     "data": {
      "image/png": "[encoded data removed]",
      "text/plain": [
       "<Figure size 1600x800 with 4 Axes>"
      ]
     },
     "metadata": {},
     "output_type": "display_data"
    }
   ],
   "source": [
    "plt.figure(figsize=(16,8))\n",
    "plt.subplot(2,2,1)\n",
    "sns.distplot(df['rating'])\n",
    "\n",
    "plt.subplot(2,2,2)\n",
    "sns.boxplot(df['rating'])\n",
    "\n",
    "plt.subplot(2,2,3)\n",
    "sns.distplot(new_df['rating'])\n",
    "\n",
    "plt.subplot(2,2,4)\n",
    "sns.boxplot(new_df['rating'])\n",
    "\n",
    "plt.show()"
   ]
  },
  {
   "cell_type": "code",
   "execution_count": 69,
   "id": "45eebf23-7cf8-4caa-8147-3a3ac68bc7d6",
   "metadata": {},
   "outputs": [
    {
     "name": "stderr",
     "output_type": "stream",
     "text": [
      "C:\\Users\\gopal\\AppData\\Local\\Temp\\ipykernel_13052\\2170132713.py:18: UserWarning: \n",
      "\n",
      "`distplot` is a deprecated function and will be removed in seaborn v0.14.0.\n",
      "\n",
      "Please adapt your code to use either `displot` (a figure-level function with\n",
      "similar flexibility) or `histplot` (an axes-level function for histograms).\n",
      "\n",
      "For a guide to updating your code to use the new functions, please see\n",
      "https://gist.github.com/mwaskom/de44147ed2974457ad6372750bbe5751\n",
      "\n",
      "  sns.distplot(df['rating'])\n",
      "C:\\Users\\gopal\\AppData\\Local\\Temp\\ipykernel_13052\\2170132713.py:24: UserWarning: \n",
      "\n",
      "`distplot` is a deprecated function and will be removed in seaborn v0.14.0.\n",
      "\n",
      "Please adapt your code to use either `displot` (a figure-level function with\n",
      "similar flexibility) or `histplot` (an axes-level function for histograms).\n",
      "\n",
      "For a guide to updating your code to use the new functions, please see\n",
      "https://gist.github.com/mwaskom/de44147ed2974457ad6372750bbe5751\n",
      "\n",
      "  sns.distplot(new_df_cap['rating'])\n"
     ]
    },
    {
     "data": {
      "image/png": "[encoded data removed]",
      "text/plain": [
       "<Figure size 1600x800 with 4 Axes>"
      ]
     },
     "metadata": {},
     "output_type": "display_data"
    }
   ],
   "source": [
    "new_df_cap = df.copy()\n",
    "\n",
    "new_df_cap['rating'] = np.where(\n",
    "    new_df_cap['rating'] > upper_limit,\n",
    "    upper_limit,\n",
    "    np.where(\n",
    "        new_df_cap['rating'] < lower_limit,\n",
    "        lower_limit,\n",
    "        new_df_cap['rating']\n",
    "    )\n",
    ")\n",
    "new_df_cap.shape\n",
    "(1000, 3)\n",
    "# Comparing\n",
    "\n",
    "plt.figure(figsize=(16,8))\n",
    "plt.subplot(2,2,1)\n",
    "sns.distplot(df['rating'])\n",
    "\n",
    "plt.subplot(2,2,2)\n",
    "sns.boxplot(df['rating'])\n",
    "\n",
    "plt.subplot(2,2,3)\n",
    "sns.distplot(new_df_cap['rating'])\n",
    "\n",
    "plt.subplot(2,2,4)\n",
    "sns.boxplot(new_df_cap['rating'])\n",
    "\n",
    "plt.show()"
   ]
  },
  {
   "cell_type": "code",
   "execution_count": null,
   "id": "4f73ac11-062a-4f12-90e6-1aeab5f88f3b",
   "metadata": {},
   "outputs": [],
   "source": []
  }
 ],
 "metadata": {
  "kernelspec": {
   "display_name": "Python 3 (ipykernel)",
   "language": "python",
   "name": "python3"
  },
  "language_info": {
   "codemirror_mode": {
    "name": "ipython",
    "version": 3
   },
   "file_extension": ".py",
   "mimetype": "text/x-python",
   "name": "python",
   "nbconvert_exporter": "python",
   "pygments_lexer": "ipython3",
   "version": "3.11.4"
  }
 },
 "nbformat": 4,
 "nbformat_minor": 5
}
